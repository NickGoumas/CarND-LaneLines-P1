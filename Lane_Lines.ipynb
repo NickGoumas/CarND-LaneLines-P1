{
 "cells": [
  {
   "cell_type": "code",
   "execution_count": 57,
   "metadata": {
    "collapsed": false,
    "deletable": true,
    "editable": true
   },
   "outputs": [],
   "source": [
    "#importing some useful packages\n",
    "import os\n",
    "import matplotlib.pyplot as plt\n",
    "import matplotlib.image as mpimg\n",
    "import cv2\n",
    "from sklearn import linear_model\n",
    "import numpy as np\n",
    "import math\n",
    "# Import everything needed to edit/save/watch video clips\n",
    "from moviepy.editor import VideoFileClip\n",
    "from IPython.display import HTML\n",
    "%matplotlib inline\n",
    "\n",
    "def grayscale(img):\n",
    "    \"\"\"Applies the Grayscale transform\n",
    "    This will return an image with only one color channel\n",
    "    but NOTE: to see the returned image as grayscale\n",
    "    (assuming your grayscaled image is called 'gray')\n",
    "    you should call plt.imshow(gray, cmap='gray')\"\"\"\n",
    "    return cv2.cvtColor(img, cv2.COLOR_RGB2GRAY)\n",
    "    # Or use BGR2GRAY if you read an image with cv2.imread()\n",
    "    # return cv2.cvtColor(img, cv2.COLOR_BGR2GRAY)\n",
    "    \n",
    "def canny(img, low_threshold, high_threshold):\n",
    "    \"\"\"Applies the Canny transform\"\"\"\n",
    "    return cv2.Canny(img, low_threshold, high_threshold)\n",
    "\n",
    "def gaussian_blur(img, kernel_size):\n",
    "    \"\"\"Applies a Gaussian Noise kernel\"\"\"\n",
    "    return cv2.GaussianBlur(img, (kernel_size, kernel_size), 0)\n",
    "\n",
    "def region_of_interest(img, vertices):\n",
    "    \"\"\"\n",
    "    Applies an image mask.\n",
    "    \n",
    "    Only keeps the region of the image defined by the polygon\n",
    "    formed from `vertices`. The rest of the image is set to black.\n",
    "    \"\"\"\n",
    "    #defining a blank mask to start with\n",
    "    mask = np.zeros_like(img)   \n",
    "    \n",
    "    #defining a 3 channel or 1 channel color to fill the mask with depending on the input image\n",
    "    if len(img.shape) > 2:\n",
    "        channel_count = img.shape[2]  # i.e. 3 or 4 depending on your image\n",
    "        ignore_mask_color = (255,) * channel_count\n",
    "    else:\n",
    "        ignore_mask_color = 255\n",
    "        \n",
    "    #filling pixels inside the polygon defined by \"vertices\" with the fill color    \n",
    "    cv2.fillPoly(mask, vertices, ignore_mask_color)\n",
    "    \n",
    "    #returning the image only where mask pixels are nonzero\n",
    "    masked_image = cv2.bitwise_and(img, mask)\n",
    "    return masked_image\n",
    "\n",
    "\n",
    "def draw_lines(img, lines, color=[255, 0, 0], thickness=2):\n",
    "    \"\"\"\n",
    "    NOTE: this is the function you might want to use as a starting point once you want to \n",
    "    average/extrapolate the line segments you detect to map out the full\n",
    "    extent of the lane (going from the result shown in raw-lines-example.mp4\n",
    "    to that shown in P1_example.mp4).  \n",
    "    \n",
    "    Think about things like separating line segments by their \n",
    "    slope ((y2-y1)/(x2-x1)) to decide which segments are part of the left\n",
    "    line vs. the right line.  Then, you can average the position of each of \n",
    "    the lines and extrapolate to the top and bottom of the lane.\n",
    "    \n",
    "    This function draws `lines` with `color` and `thickness`.    \n",
    "    Lines are drawn on the image inplace (mutates the image).\n",
    "    If you want to make the lines semi-transparent, think about combining\n",
    "    this function with the weighted_img() function below\n",
    "    \"\"\"\n",
    "    for line in lines:\n",
    "        for x1,y1,x2,y2 in line:\n",
    "            cv2.line(img, (x1, y1), (x2, y2), color, thickness)\n",
    "            \n",
    "def line_reg(lines, ave_num):\n",
    "    # Point seperation.\n",
    "    global global_l_intercept\n",
    "    global global_r_coef\n",
    "    global global_r_intercept\n",
    "    global global_r_coef\n",
    "    l_coor_Xtrain = []\n",
    "    l_coor_Ytrain = []\n",
    "    r_coor_Xtrain = []\n",
    "    r_coor_Ytrain = []\n",
    "    l_dist_weight = []\n",
    "    r_dist_weight = []\n",
    "    \n",
    "    for k in range(0, len(lines)):\n",
    "        px1, py1, px2, py2 = lines[k][0]\n",
    "        slope = ((py2-py1)/(px2-px1))\n",
    "        dist = round(np.sqrt(((px2-px1)**2)+((py2-py1)**2)), 3)\n",
    "        \n",
    "        if slope < 0:\n",
    "            l_coor_Xtrain.extend([px1, px2])\n",
    "            l_coor_Ytrain.extend([py1, py2])\n",
    "            l_dist_weight.extend([dist, dist])\n",
    "        elif slope > 0:\n",
    "            r_coor_Xtrain.extend([px1, px2])\n",
    "            r_coor_Ytrain.extend([py1, py2])\n",
    "            r_dist_weight.extend([dist, dist])\n",
    "        else:\n",
    "            pass\n",
    "    l_coor_Xtrain = np.asarray(l_coor_Xtrain).reshape(-1, 1)\n",
    "    l_coor_Ytrain = np.asarray(l_coor_Ytrain)\n",
    "    r_coor_Xtrain = np.asarray(r_coor_Xtrain).reshape(-1, 1)\n",
    "    r_coor_Ytrain = np.asarray(r_coor_Ytrain)\n",
    "    l_dist_weight = np.asarray(l_dist_weight)\n",
    "    r_dist_weight = np.asarray(r_dist_weight)\n",
    "    \n",
    "    if len(l_coor_Xtrain) != 0:\n",
    "        reg_l = linear_model.LinearRegression()\n",
    "        reg_l.fit(l_coor_Xtrain, l_coor_Ytrain, l_dist_weight)\n",
    "        \n",
    "        global_l_intercept.append(reg_l.intercept_)\n",
    "        if len(global_l_intercept) > ave_num:\n",
    "            del global_l_intercept[0]\n",
    "        \n",
    "        global_l_coef.append(reg_l.coef_[0])\n",
    "        if len(global_l_coef) > ave_num:\n",
    "            del global_l_coef[0]\n",
    "        \n",
    "    if len(r_coor_Xtrain) != 0:\n",
    "        reg_r = linear_model.LinearRegression()\n",
    "        reg_r.fit(r_coor_Xtrain, r_coor_Ytrain, r_dist_weight)\n",
    "\n",
    "        global_r_intercept.append(reg_r.intercept_)\n",
    "        if len(global_r_intercept) > ave_num:\n",
    "            del global_r_intercept[0]\n",
    "        \n",
    "        global_r_coef.append(reg_r.coef_[0])\n",
    "        if len(global_r_coef) > ave_num:\n",
    "            del global_r_coef[0]\n",
    "        \n",
    "    return (ave(global_l_coef), ave(global_l_intercept), ave(global_r_coef), ave(global_r_intercept))\n",
    "\n",
    "def draw_side_lines(image, coef1, intercept1, coef2, intercept2):\n",
    "    imshape = image.shape\n",
    "    line_image = np.zeros((imshape[0],imshape[1],3), np.uint8)\n",
    "    (output_x1, output_y1) = solve_X(imshape[0], intercept1, coef1)\n",
    "    (output_x2, output_y2) = solve_X((imshape[0]/2)+60, intercept1, coef1)\n",
    "    cv2.line(line_image, (output_x1, output_y1), (output_x2, output_y2), [255, 0, 0], 10)\n",
    "    (output_x1, output_y1) = solve_X(imshape[0], intercept2, coef2)\n",
    "    (output_x2, output_y2) = solve_X((imshape[0]/2)+60, intercept2, coef2)\n",
    "    cv2.line(line_image, (output_x1, output_y1), (output_x2, output_y2), [255, 0, 0], 10)\n",
    "    return line_image\n",
    "        \n",
    "        \n",
    "def ave(any_list):\n",
    "    average = sum(any_list)/float(len(any_list))\n",
    "    return average\n",
    "\n",
    "def solve_X(output_y, intercept, coef):\n",
    "    output_x = (output_y - intercept) / coef\n",
    "    return (int(output_x), int(output_y))\n",
    "\n",
    "def hough_lines(img, rho, theta, threshold, min_line_len, max_line_gap):\n",
    "    \"\"\"\n",
    "    `img` should be the output of a Canny transform.\n",
    "    Returns an image with hough lines drawn.\n",
    "    \"\"\"\n",
    "    lines = cv2.HoughLinesP(img, rho, theta, threshold, np.array([]), minLineLength=min_line_len, maxLineGap=max_line_gap)\n",
    "    line_img = np.zeros((img.shape[0], img.shape[1], 3), dtype=np.uint8)\n",
    "    draw_lines(line_img, lines)\n",
    "    return line_img\n",
    "\n",
    "# Python 3 has support for cool math symbols.\n",
    "\n",
    "def weighted_img(img, initial_img, α=0.8, β=1., λ=0.):\n",
    "    \"\"\"\n",
    "    `img` is the output of the hough_lines(), An image with lines drawn on it.\n",
    "    Should be a blank image (all black) with lines drawn on it.\n",
    "    `initial_img` should be the image before any processing.\n",
    "    The result image is computed as follows:\n",
    "    \"\"\"\n",
    "    return cv2.addWeighted(initial_img, α, img, β, λ)\n",
    "\n"
   ]
  },
  {
   "cell_type": "code",
   "execution_count": 58,
   "metadata": {
    "collapsed": false,
    "deletable": true,
    "editable": true
   },
   "outputs": [],
   "source": [
    "def process_image(image):\n",
    "    # NOTE: The output you return should be a color image (3 channel) for processing video below\n",
    "    # TODO: put your pipeline here,\n",
    "    # you should return the final output (image where lines are drawn on lanes)\n",
    "    #global global_l_intercept\n",
    "\n",
    "    output_image = image\n",
    "    \n",
    "    # Convert to grayscale.\n",
    "    image = grayscale(image)\n",
    "    \n",
    "    # Gaussian blur.\n",
    "    image = gaussian_blur(image, 3)\n",
    "    \n",
    "    # Canny edge detection.\n",
    "    min_thres = 90\n",
    "    max_thres = 150\n",
    "    image = canny(image, min_thres, max_thres)\n",
    "    \n",
    "    # Apply mask.\n",
    "    imshape = image.shape\n",
    "    buffer = 50\n",
    "    vertices = np.array([[(0+buffer,imshape[0]),\n",
    "                          ((imshape[1]/2)-40, (imshape[0]/2)+60), \n",
    "                          ((imshape[1]/2)+40, (imshape[0]/2)+60), \n",
    "                          (imshape[1]-buffer,imshape[0])]], \n",
    "                        dtype=np.int32)\n",
    "    \n",
    "    image = region_of_interest(image, vertices)\n",
    "    \n",
    "    # Generate hough line list.\n",
    "    rho = 1                # distance resolution in pixels of the Hough grid\n",
    "    theta = np.pi/180      # angular resolution in radians of the Hough grid\n",
    "    threshold = 60         # minimum number of votes (intersections in Hough grid cell)\n",
    "    min_line_len = 10       # minimum number of pixels making up a line\n",
    "    max_line_gap = 5\n",
    "    lines = cv2.HoughLinesP(image, rho, theta, threshold, min_line_len, max_line_gap) \n",
    "    \n",
    "    (left_coef, left_intercept, right_coef, right_intercept) = line_reg(lines, 25)\n",
    "    \n",
    "    line_image = draw_side_lines(image, left_coef, left_intercept, right_coef, right_intercept)\n",
    "\n",
    "    output_image = weighted_img(line_image, output_image, 0.8, 1., 0.)\n",
    "    \n",
    "    return output_image\n",
    "\n"
   ]
  },
  {
   "cell_type": "code",
   "execution_count": 59,
   "metadata": {
    "collapsed": false,
    "deletable": true,
    "editable": true
   },
   "outputs": [
    {
     "name": "stdout",
     "output_type": "stream",
     "text": [
      "[MoviePy] >>>> Building video white.mp4\n",
      "[MoviePy] Writing video white.mp4\n"
     ]
    },
    {
     "name": "stderr",
     "output_type": "stream",
     "text": [
      "100%|█████████▉| 221/222 [00:27<00:00,  7.65it/s]\n"
     ]
    },
    {
     "name": "stdout",
     "output_type": "stream",
     "text": [
      "[MoviePy] Done.\n",
      "[MoviePy] >>>> Video ready: white.mp4 \n",
      "\n",
      "CPU times: user 9.24 s, sys: 524 ms, total: 9.76 s\n",
      "Wall time: 30.7 s\n"
     ]
    }
   ],
   "source": [
    "global_l_intercept = []\n",
    "global_l_coef = []\n",
    "global_r_intercept = []\n",
    "global_r_coef = []\n",
    "white_output = 'white.mp4'\n",
    "clip1 = VideoFileClip(\"solidWhiteRight.mp4\")\n",
    "white_clip = clip1.fl_image(process_image) #NOTE: this function expects color images!!\n",
    "\n",
    "%time white_clip.write_videofile(white_output, audio=False)"
   ]
  },
  {
   "cell_type": "code",
   "execution_count": 60,
   "metadata": {
    "collapsed": false,
    "deletable": true,
    "editable": true
   },
   "outputs": [
    {
     "data": {
      "text/html": [
       "\n",
       "<video width=\"960\" height=\"540\" controls>\n",
       "  <source src=\"white.mp4\">\n",
       "</video>\n"
      ],
      "text/plain": [
       "<IPython.core.display.HTML object>"
      ]
     },
     "execution_count": 60,
     "metadata": {},
     "output_type": "execute_result"
    }
   ],
   "source": [
    "HTML(\"\"\"\n",
    "<video width=\"960\" height=\"540\" controls>\n",
    "  <source src=\"{0}\">\n",
    "</video>\n",
    "\"\"\".format(white_output))"
   ]
  },
  {
   "cell_type": "code",
   "execution_count": 61,
   "metadata": {
    "collapsed": false
   },
   "outputs": [
    {
     "name": "stdout",
     "output_type": "stream",
     "text": [
      "[MoviePy] >>>> Building video yellow.mp4\n",
      "[MoviePy] Writing video yellow.mp4\n"
     ]
    },
    {
     "name": "stderr",
     "output_type": "stream",
     "text": [
      "100%|█████████▉| 681/682 [01:29<00:00,  7.42it/s]\n"
     ]
    },
    {
     "name": "stdout",
     "output_type": "stream",
     "text": [
      "[MoviePy] Done.\n",
      "[MoviePy] >>>> Video ready: yellow.mp4 \n",
      "\n",
      "CPU times: user 28.7 s, sys: 1.68 s, total: 30.3 s\n",
      "Wall time: 1min 32s\n"
     ]
    }
   ],
   "source": [
    "yellow_output = 'yellow.mp4'\n",
    "clip2 = VideoFileClip('solidYellowLeft.mp4')\n",
    "yellow_clip = clip2.fl_image(process_image)\n",
    "%time yellow_clip.write_videofile(yellow_output, audio=False)"
   ]
  },
  {
   "cell_type": "code",
   "execution_count": 62,
   "metadata": {
    "collapsed": false,
    "deletable": true,
    "editable": true
   },
   "outputs": [
    {
     "data": {
      "text/html": [
       "\n",
       "<video width=\"960\" height=\"540\" controls>\n",
       "  <source src=\"yellow.mp4\">\n",
       "</video>\n"
      ],
      "text/plain": [
       "<IPython.core.display.HTML object>"
      ]
     },
     "execution_count": 62,
     "metadata": {},
     "output_type": "execute_result"
    }
   ],
   "source": [
    "HTML(\"\"\"\n",
    "<video width=\"960\" height=\"540\" controls>\n",
    "  <source src=\"{0}\">\n",
    "</video>\n",
    "\"\"\".format(yellow_output))"
   ]
  },
  {
   "cell_type": "code",
   "execution_count": 63,
   "metadata": {
    "collapsed": false
   },
   "outputs": [
    {
     "name": "stdout",
     "output_type": "stream",
     "text": [
      "[MoviePy] >>>> Building video extra.mp4\n",
      "[MoviePy] Writing video extra.mp4\n"
     ]
    },
    {
     "name": "stderr",
     "output_type": "stream",
     "text": [
      "100%|██████████| 251/251 [00:57<00:00,  3.92it/s]\n"
     ]
    },
    {
     "name": "stdout",
     "output_type": "stream",
     "text": [
      "[MoviePy] Done.\n",
      "[MoviePy] >>>> Video ready: extra.mp4 \n",
      "\n",
      "CPU times: user 17.1 s, sys: 1.3 s, total: 18.4 s\n",
      "Wall time: 1min 4s\n"
     ]
    }
   ],
   "source": [
    "challenge_output = 'extra.mp4'\n",
    "clip2 = VideoFileClip('challenge.mp4')\n",
    "challenge_clip = clip2.fl_image(process_image)\n",
    "%time challenge_clip.write_videofile(challenge_output, audio=False)"
   ]
  },
  {
   "cell_type": "code",
   "execution_count": 64,
   "metadata": {
    "collapsed": false
   },
   "outputs": [
    {
     "data": {
      "text/html": [
       "\n",
       "<video width=\"960\" height=\"540\" controls>\n",
       "  <source src=\"extra.mp4\">\n",
       "</video>\n"
      ],
      "text/plain": [
       "<IPython.core.display.HTML object>"
      ]
     },
     "execution_count": 64,
     "metadata": {},
     "output_type": "execute_result"
    }
   ],
   "source": [
    "HTML(\"\"\"\n",
    "<video width=\"960\" height=\"540\" controls>\n",
    "  <source src=\"{0}\">\n",
    "</video>\n",
    "\"\"\".format(challenge_output))"
   ]
  },
  {
   "cell_type": "code",
   "execution_count": null,
   "metadata": {
    "collapsed": true
   },
   "outputs": [],
   "source": []
  }
 ],
 "metadata": {
  "kernelspec": {
   "display_name": "Python 3",
   "language": "python",
   "name": "python3"
  },
  "language_info": {
   "codemirror_mode": {
    "name": "ipython",
    "version": 3
   },
   "file_extension": ".py",
   "mimetype": "text/x-python",
   "name": "python",
   "nbconvert_exporter": "python",
   "pygments_lexer": "ipython3",
   "version": "3.5.2"
  },
  "widgets": {
   "state": {},
   "version": "1.1.2"
  }
 },
 "nbformat": 4,
 "nbformat_minor": 2
}
